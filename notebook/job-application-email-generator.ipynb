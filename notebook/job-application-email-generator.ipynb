{
 "cells": [
  {
   "cell_type": "markdown",
   "id": "6393866f-c534-454f-88d8-755ff78775b4",
   "metadata": {},
   "source": [
    "## Step 1: Set up LLM"
   ]
  },
  {
   "cell_type": "code",
   "execution_count": 1,
   "id": "69e466bd-74e4-4986-9d02-dd91e9845d79",
   "metadata": {},
   "outputs": [],
   "source": [
    "from langchain_groq import ChatGroq"
   ]
  },
  {
   "cell_type": "code",
   "execution_count": null,
   "id": "da00dada-b87f-4c41-ba94-3c8cd66a21a6",
   "metadata": {},
   "outputs": [
    {
     "name": "stdout",
     "output_type": "stream",
     "text": [
      "The first person to land on the moon was Neil Armstrong. He stepped out of the lunar module Eagle and onto the moon's surface on July 20, 1969, during the Apollo 11 mission. Armstrong famously declared, \"That's one small step for man, one giant leap for mankind,\" as he became the first human to set foot on the moon.\n"
     ]
    }
   ],
   "source": [
    "llm = ChatGroq(\n",
    "    model_name=\"llama-3.3-70b-versatile\",\n",
    "    groq_api_key=\"YOUR_API_KEY\",\n",
    "    temperature=0, \n",
    ")\n",
    "\n",
    "# Test if can response\n",
    "response = llm.invoke(\"The first person to land on moon was ...\")\n",
    "print(response.content)"
   ]
  },
  {
   "cell_type": "markdown",
   "id": "51122ac3-98c6-4a73-b33e-6a369b53032c",
   "metadata": {},
   "source": [
    "## Step 2: Web scraping"
   ]
  },
  {
   "cell_type": "code",
   "execution_count": 3,
   "id": "8cb48a67-c09d-4b39-b430-55c354036299",
   "metadata": {
    "scrolled": true
   },
   "outputs": [
    {
     "name": "stderr",
     "output_type": "stream",
     "text": [
      "USER_AGENT environment variable not set, consider setting it to identify your requests.\n",
      "USER_AGENT environment variable not set, consider setting it to identify your requests.\n"
     ]
    },
    {
     "name": "stdout",
     "output_type": "stream",
     "text": [
      "⚠️ WebBaseLoader returned blank, switching to AsyncHtmlLoader...\n"
     ]
    },
    {
     "name": "stderr",
     "output_type": "stream",
     "text": [
      "Fetching pages: 100%|############################| 1/1 [00:00<00:00,  1.01it/s]"
     ]
    },
    {
     "name": "stdout",
     "output_type": "stream",
     "text": [
      "<!DOCTYPE html>\n",
      "<html lang=\"en-US\">\n",
      "<head>\n",
      "    <title></title>\n",
      "    <!-- Application Properties -->\n",
      "    <meta http-equiv=\"X-UA-Compatible\" content=\"chrome=1;IE=EDGE\"/>\n",
      "    <meta http-equiv=\"content-type\" content=\"text/html; charset=UTF-8\">\n",
      "    <meta name=\"viewport\" content=\"width=device-width, initial-scale=1.0, maximum-scale=2.0\">\n",
      "\n",
      "    <link rel=\"canonical\" href=\"https://intel.wd1.myworkdayjobs.com/en-US/External/job/GenAI-Software-Solutions-Engineer_JR0277516-1\" />\n",
      "\n",
      "    <!-- OpenGraph Tags -->\n",
      "    <meta name=\"title\" property=\"og:title\" content=\"GenAI Software Solutions Engineer\">\n",
      "    <meta name=\"description\" property=\"og:description\" content=\"Job Details: Job Description: The ideal candidate is hands-on with AI systems engineering, has experience integrating multiple models and runtimes, and is passionate about building secure, scalable, and efficient AI solutions that power next-generation agentic applications. Responsibilities Hybrid AI Agent Development: Architect, build, and optimize AI agents that run seamlessly across device and cloud environments. MCP Service Integration: Leverage and extend MCP services to enable flexible orchestration, tool integration, and agent coordination. Agentic Routing &amp;amp; Planning: Implement routing logic and reasoning strategies to improve decision-making and planning across multi-agent and multi-model systems. Model Runtime Engineering: Work with different model runtimes, frameworks, and backends to maximize performance. Security &amp;amp; Compliance: Ensure model safety, sandboxing, data governance, and secure execution across device and cloud. Optimization: Apply techniques like model quantization, pruning, distillation, and caching for efficiency across diverse environments. Technical Evangelism: Contribute to best practices, design patterns, and technical documentation to support broader adoption of hybrid AI agent architectures. Qualifications: 2+ years hands-on experience on AI/ML algorithm development 1+ years of hands-on experience in NLP, LLM-based systems, or AI agent development. Deep expertise in GenAI algorithms, solution architecture, and performance tuning. Proven experience building custom AI tools, agents, or apps for real-world use cases. Strong Python or C++ skills. Excellent problem-solving skills with a results-driven, customer-focused mindset. Familiarity with client AI tools, cross-platform agents, or plugin ecosystems. Preferred skills:- Experience with RAG pipelines, vector databases (e.g.,FAISS, Chroma), and embedding techniques. Experience optimizing GenAI workloads for edge devices using xPU accelerators. Experience with local LLMs (e.g., Mistral, Llama) or fine-tuning open-source models. Experience in customer/partner support for GenAI workflow design and deployment. Experience with frameworks such as LangChain, LlamaIndex, AutoGen, HuggingFace, and other APIs. Experience in UX/UI or prompt engineering to improve human-AI interaction. Job Type: Experienced Hire Shift: Shift 1 (Malaysia) Primary Location: Malaysia, Penang Additional Locations: Business group: The Client Computing Group (CCG) is responsible for driving business strategy and product development for Intel&#39;s PC products and platforms, spanning form factors such as notebooks, desktops, 2 in 1s, all in ones. Working with our partners across the industry, we intend to deliver purposeful computing experiences that unlock people&#39;s potential - allowing each person use our products to focus, create and connect in ways that matter most to them. Posting Statement: All qualified applicants will receive consideration for employment without regard to race, color, religion, religious creed, sex, national origin, ancestry, age, physical or mental disability, medical condition, genetic information, military and veteran status, marital status, pregnancy, gender, gender expression, gender identity, sexual orientation, or any other characteristic protected by local law, regulation, or ordinance. Position of Trust N/A Work Model for this Role This role will be eligible for our hybrid work model which allows employees to split their time between working on-site at their assigned Intel site and off-site. * Job posting details (such as work model, location or time type) are subject to change. Intel’s official careers website. Find your next job and take on projects that shape tomorrow’s technology. Benefits Internships Life at Intel Locations Recruitment Process Discover your place in our world-changing work.\">\n",
      "    <meta name=\"image\" property=\"og:image\" content=\"https://intel.wd1.myworkdayjobs.com/en-US/External/assets/logo\">\n",
      "    <meta property=\"og:type\" content=\"website\">\n",
      "    <meta property=\"og:url\" content=\"https://intel.wd1.myworkdayjobs.com/en-US/External/details/GenAI-Software-Solutions-Engineer_JR0277516-1\">\n",
      "\n",
      "\n",
      "    <!-- SEO Tags -->\n",
      "    \n",
      "\n",
      "    <script type=\"application/ld+json\">\n",
      "        {\n",
      "  \"jobLocation\" : {\n",
      "    \"@type\" : \"Place\",\n",
      "    \"address\" : {\n",
      "      \"@type\" : \"PostalAddress\",\n",
      "      \"addressCountry\" : \"Malaysia\",\n",
      "      \"addressLocality\" : \"MYS - Penang\"\n",
      "    }\n",
      "  },\n",
      "  \"hiringOrganization\" : {\n",
      "    \"name\" : \"755 Intel Microelectronics (M) Sdn. Bhd.\",\n",
      "    \"@type\" : \"Organization\",\n",
      "    \"sameAs\" : \"\"\n",
      "  },\n",
      "  \"identifier\" : {\n",
      "    \"name\" : \"GenAI Software Solutions Engineer\",\n",
      "    \"@type\" : \"PropertyValue\",\n",
      "    \"value\" : \"JR0277516\"\n",
      "  },\n",
      "  \"datePosted\" : \"2025-09-29\",\n",
      "  \"employmentType\" : \"FULL_TIME\",\n",
      "  \"title\" : \"GenAI Software Solutions Engineer\",\n",
      "  \"description\" : \"Job Details: Job Description: The ideal candidate is hands-on with AI systems engineering, has experience integrating multiple models and runtimes, and is passionate about building secure, scalable, and efficient AI solutions that power next-generation agentic applications. Responsibilities Hybrid AI Agent Development: Architect, build, and optimize AI agents that run seamlessly across device and cloud environments. MCP Service Integration: Leverage and extend MCP services to enable flexible orchestration, tool integration, and agent coordination. Agentic Routing &amp; Planning: Implement routing logic and reasoning strategies to improve decision-making and planning across multi-agent and multi-model systems. Model Runtime Engineering: Work with different model runtimes, frameworks, and backends to maximize performance. Security &amp; Compliance: Ensure model safety, sandboxing, data governance, and secure execution across device and cloud. Optimization: Apply techniques like model quantization, pruning, distillation, and caching for efficiency across diverse environments. Technical Evangelism: Contribute to best practices, design patterns, and technical documentation to support broader adoption of hybrid AI agent architectures. Qualifications: 2+ years hands-on experience on AI/ML algorithm development 1+ years of hands-on experience in NLP, LLM-based systems, or AI agent development. Deep expertise in GenAI algorithms, solution architecture, and performance tuning. Proven experience building custom AI tools, agents, or apps for real-world use cases. Strong Python or C++ skills. Excellent problem-solving skills with a results-driven, customer-focused mindset. Familiarity with client AI tools, cross-platform agents, or plugin ecosystems. Preferred skills:- Experience with RAG pipelines, vector databases (e.g.,FAISS, Chroma), and embedding techniques. Experience optimizing GenAI workloads for edge devices using xPU accelerators. Experience with local LLMs (e.g., Mistral, Llama) or fine-tuning open-source models. Experience in customer/partner support for GenAI workflow design and deployment. Experience with frameworks such as LangChain, LlamaIndex, AutoGen, HuggingFace, and other APIs. Experience in UX/UI or prompt engineering to improve human-AI interaction. Job Type: Experienced Hire Shift: Shift 1 (Malaysia) Primary Location: Malaysia, Penang Additional Locations: Business group: The Client Computing Group (CCG) is responsible for driving business strategy and product development for Intel's PC products and platforms, spanning form factors such as notebooks, desktops, 2 in 1s, all in ones. Working with our partners across the industry, we intend to deliver purposeful computing experiences that unlock people's potential - allowing each person use our products to focus, create and connect in ways that matter most to them. Posting Statement: All qualified applicants will receive consideration for employment without regard to race, color, religion, religious creed, sex, national origin, ancestry, age, physical or mental disability, medical condition, genetic information, military and veteran status, marital status, pregnancy, gender, gender expression, gender identity, sexual orientation, or any other characteristic protected by local law, regulation, or ordinance. Position of Trust N/A Work Model for this Role This role will be eligible for our hybrid work model which allows employees to split their time between working on-site at their assigned Intel site and off-site. * Job posting details (such as work model, location or time type) are subject to change. Intel’s official careers website. Find your next job and take on projects that shape tomorrow’s technology. Benefits Internships Life at Intel Locations Recruitment Process Discover your place in our world-changing work.\",\n",
      "  \"@context\" : \"http://schema.org\",\n",
      "  \"@type\" : \"JobPosting\"\n",
      "}\n",
      "    </script>\n",
      "\n",
      "    <script type=\"text/javascript\">\n",
      "        window.workday = window.workday || {\n",
      "            tenant: \"intel\",\n",
      "            siteId: \"External\",\n",
      "            locale: \"en-US\",\n",
      "            requestLocale: \"en-US\",\n",
      "            supportedLocales:[\"en-US\"],\n",
      "            clientOrigin: \"https://www.myworkday.com\",\n",
      "            language: null,\n",
      "            cdnEndpoint: \"www.myworkdaycdn.com\",\n",
      "            useCdn: true,\n",
      "            maintenancePageUrl: \"https://www.myworkday.com/wday/drs/outage?t=intel&s=External\",\n",
      "            token: \"ee5a27cf-26d5-485c-931c-9cce26a95715\",\n",
      "            environment: \"PROD\",\n",
      "            isExternal: true,\n",
      "            appName: \"cxs\",\n",
      "            postingAvailable: true,\n",
      "            allowedFileTypes: [],\n",
      "            blockedFileTypes: [\"bas\",\"bat\",\"com\",\"exe\",\"js\",\"lnk\",\"ocx\",\"reg\",\"sct\",\"sys\",\"vb\",\"vbe\",\"vbs\",\"wsc\",\"wsf\",\"wsh\"],\n",
      "            toggles: [\"b9739002c86510002015dea9402c0000\",\"812c4a153c711000151c5ca11e310000\",\"0d6ebcfdc39a10001bc8f95b3aac0000\",\"43b4d9d7cb8e10000a703bad20420000\",\"532bfa92863b100019ab08f4c04b0000\",\"dac26076be8510002347bab78d5a0000\",\"badb3f02bef210000e20c92ac0260000\",\"e466d0b066ff10000c3605be74f10000\",\"292c4bafc34210001a28e93bebcf0000\",\"e42e6d1d2524100010042528c43e0000\",\"f45271d06fcd10001b2d8737149f0000\",\"b8ce26d67ff9100014ec4b645b840000\",\"bc9894c7142610001616fde6e0700000\",\"6edcf8e6cd7f10001b1f86c9e3ef0000\",\"a969fb8f4cfd10000ad4ba96cd820000\",\"459bb3f1e4a9100014b8f73a20850000\",\"ab2374beb65d10002c8233ca9b5a0000\",\"4706b65dd8ee100015f0034e1e480000\",\"466d58ad03691000185ddce1282a0000\",\"75ecc5f3792b1000131d51fc86ab0000\",\"bc814e895c1d10000d1fd3354f4b0000\",\"258d1be19f40100013265e0888c90000\",\"cdbf5f0a33931000115a15a023a40000\",\"20ccbc6c60701000fafdc3dce74a0000\",\"16593e8eb6ca10000935b558a50a0000\",\"e1733537b151100014e202818e520000\",\"db3fa9600f8810001798c5a6d2dd0000\",\"1502396ba0ef1000103c22d48c570000\",\"9c10810cc40b1000460d082ad8de0000\",\"9c10810cc40b100045f3593f47b50000\",\"86e121d8686e100037e6d4083cb50000\",\"6658d90adc4f100014da5605f7080000\",\"10f7a56eb11c100024a6d65b625a0000\",\"e1fdcb592a641000290e46a2b10f0000\",\"5054a9c1a3eb1000262607b170020000\"],\n",
      "            branding: {\"formFields\":{\"color\":\"#00285A\",\"textColor\":\"#333333\"},\"progressBar\":{\"color\":\"#0068B5\"},\"button\":{\"primary\":{\"color\":\"#00285A\",\"borderColor\":\"#00285A\",\"textColor\":\"#FFFFFF\",\"hover\":{\"color\":\"#00285A\",\"borderColor\":\"#00285A\",\"textColor\":\"#FFFFFF\"}},\"secondary\":{\"color\":\"#00285A\",\"borderColor\":\"#00285A\",\"textColor\":\"#FFFFFF\",\"hover\":{\"color\":\"#00285A\",\"borderColor\":\"#00285A\",\"textColor\":\"#FFFFFF\"}},\"shape\":\"PILL\"},\"header\":{\"imageBanner\":{\"maintainAspectRatio\":true},\"banner\":{\"color\":\"#FFFFFF\",\"borderColor\":\"#FFFFFF\",\"textColor\":\"#0068B5\",\"image\":{\"id\":\"19eaceeb6d921001bb7d2fb506870000\"}}},\"embedded\":false},\n",
      "            geoIpCountryCode: \"my\" == null ? \"\": \"my\",\n",
      "\n",
      "        };\n",
      "        function createScriptTag (src) {\n",
      "            var scriptTag =  document.createElement('script');\n",
      "            scriptTag.src = src;\n",
      "            scriptTag.setAttribute('defer', 'true');\n",
      "            scriptTag.setAttribute('crossorigin', 'anonymous');\n",
      "            return scriptTag;\n",
      "        }\n",
      "        var isIE = typeof Symbol === 'undefined';\n",
      "        var sharedAssetPath = '/wday/asset/uic-shared-vendors';\n",
      "        var sharedVendorLoaderAsset = sharedAssetPath + '/shared-vendors.min.js';\n",
      "        var cdnOrigin = 'https://' + \"www.myworkdaycdn.com\";\n",
      "        var sharedVendorsLoaderUrlOrigin = workday.clientOrigin !== '' ? workday.clientOrigin : cdnOrigin;\n",
      "        var sharedVendorsLoaderScript = createScriptTag(sharedVendorsLoaderUrlOrigin + sharedVendorLoaderAsset);\n",
      "        sharedVendorsLoaderScript.onload = function () {\n",
      "            var jobsScriptSrcFilename = isIE\n",
      "                ? 'cx-jobs-ie.min.js'\n",
      "                : 'cx-jobs.min.js';\n",
      "            var cxJobsAsset = '/wday/asset/candidate-experience-jobs/' + jobsScriptSrcFilename;\n",
      "            var jobsScript = createScriptTag(cdnOrigin + cxJobsAsset);\n",
      "            jobsScript.onerror = function () {\n",
      "                window.workday.useCdn = false;\n",
      "                var jobsScriptFromClientOrigin = createScriptTag(workday.clientOrigin + cxJobsAsset);\n",
      "                document.head.removeChild(jobsScript);\n",
      "                document.head.appendChild(jobsScriptFromClientOrigin);\n",
      "            }\n",
      "            document.head.appendChild(jobsScript);\n",
      "        };\n",
      "        document.head.appendChild(sharedVendorsLoaderScript);\n",
      "\n",
      "        var uxInsightsAssetPath = '/wday/asset/client-analytics';\n",
      "        var uxInsightsAsset = uxInsightsAssetPath + \"/uxInsights.min.js?plate=BMT216A\"\n",
      "        var uxInsightsUrlOrigin = workday.clientOrigin !== '' ? workday.clientOrigin : cdnOrigin;\n",
      "        var uxInsightsScript = createScriptTag(uxInsightsUrlOrigin + uxInsightsAsset);\n",
      "        document.head.appendChild(uxInsightsScript);\n",
      "    </script>\n",
      "</head>\n",
      "<body>\n",
      "<div id=\"root\"></div>\n",
      "</body>\n",
      "</html>\n"
     ]
    },
    {
     "name": "stderr",
     "output_type": "stream",
     "text": [
      "\n"
     ]
    }
   ],
   "source": [
    "from langchain_community.document_loaders import WebBaseLoader, AsyncHtmlLoader\n",
    "\n",
    "def web_scraping(url: str):\n",
    "    try:\n",
    "        # Try WebBaseLoader first\n",
    "        loader = WebBaseLoader(url)\n",
    "        page_data = loader.load().pop().page_content\n",
    "        \n",
    "        # If WebBaseLoader returned empty/too small, use AsyncHtmlLoader\n",
    "        if not page_data or len(page_data) < 100:\n",
    "            print(\"⚠️ WebBaseLoader returned blank, switching to AsyncHtmlLoader...\")\n",
    "            loader = AsyncHtmlLoader(url)\n",
    "            page_data = loader.load().pop().page_content\n",
    "            \n",
    "        return page_data\n",
    "\n",
    "    except Exception as e:\n",
    "        print(\"❌ Error in loaders:\", e)\n",
    "        return \"\"\n",
    "\n",
    "url = \"https://intel.wd1.myworkdayjobs.com/en-US/External/details/GenAI-Software-Solutions-Engineer_JR0277516-1?locations=1e4a4eb3adf1016620eafb74bf81d9cd&locations=1e4a4eb3adf101740c9ff674bf81d4cd\"\n",
    "page_data = web_scraping(url)\n",
    "print(page_data)"
   ]
  },
  {
   "cell_type": "markdown",
   "id": "24198367-707a-469f-95b3-fbc54d8ab178",
   "metadata": {},
   "source": [
    "## Step 3: Extract important info from job posting"
   ]
  },
  {
   "cell_type": "code",
   "execution_count": 7,
   "id": "5519f1fe-f3a0-4699-9e76-b5af5b410fda",
   "metadata": {},
   "outputs": [],
   "source": [
    "from langchain_core.prompts import PromptTemplate\n",
    "\n",
    "prompt_extract_1 = PromptTemplate.from_template(\n",
    "        \"\"\"\n",
    "        ### SCRAPED TEXT FROM WEBSITE:\n",
    "        {page_data}\n",
    "        ### INSTRUCTION:\n",
    "        The scraped text is from the career's page of a website.\n",
    "        Your job is to extract the job postings and return them in JSON format containing the \n",
    "        following keys: `role`, `experience`, `skills` and `description`.\n",
    "        Only return the valid JSON.\n",
    "        ### VALID JSON (NO PREAMBLE):    \n",
    "        \"\"\"\n",
    ")\n",
    "\n",
    "# chain_extract = LLMChain(llm=llm, prompt=prompt_extract) <--- same as below\n",
    "job_chain_extract = prompt_extract_1 | llm # send prompt to LLM \n",
    "job = job_chain_extract.invoke(input={'page_data':page_data})"
   ]
  },
  {
   "cell_type": "code",
   "execution_count": 8,
   "id": "e004f7a6-2812-4ddb-a931-9e72661579e8",
   "metadata": {},
   "outputs": [
    {
     "data": {
      "text/plain": [
       "{'role': 'GenAI Software Solutions Engineer',\n",
       " 'experience': '2+ years hands-on experience on AI/ML algorithm development, 1+ years of hands-on experience in NLP, LLM-based systems, or AI agent development',\n",
       " 'skills': ['Deep expertise in GenAI algorithms, solution architecture, and performance tuning',\n",
       "  'Proven experience building custom AI tools, agents, or apps for real-world use cases',\n",
       "  'Strong Python or C++ skills',\n",
       "  'Excellent problem-solving skills with a results-driven, customer-focused mindset',\n",
       "  'Familiarity with client AI tools, cross-platform agents, or plugin ecosystems',\n",
       "  'Experience with RAG pipelines, vector databases (e.g.,FAISS, Chroma), and embedding techniques',\n",
       "  'Experience optimizing GenAI workloads for edge devices using xPU accelerators',\n",
       "  'Experience with local LLMs (e.g., Mistral, Llama) or fine-tuning open-source models',\n",
       "  'Experience in customer/partner support for GenAI workflow design and deployment',\n",
       "  'Experience with frameworks such as LangChain, LlamaIndex, AutoGen, HuggingFace, and other APIs',\n",
       "  'Experience in UX/UI or prompt engineering to improve human-AI interaction'],\n",
       " 'description': 'Job Details: Job Description: The ideal candidate is hands-on with AI systems engineering, has experience integrating multiple models and runtimes, and is passionate about building secure, scalable, and efficient AI solutions that power next-generation agentic applications. Responsibilities Hybrid AI Agent Development: Architect, build, and optimize AI agents that run seamlessly across device and cloud environments. MCP Service Integration: Leverage and extend MCP services to enable flexible orchestration, tool integration, and agent coordination. Agentic Routing & Planning: Implement routing logic and reasoning strategies to improve decision-making and planning across multi-agent and multi-model systems. Model Runtime Engineering: Work with different model runtimes, frameworks, and backends to maximize performance. Security & Compliance: Ensure model safety, sandboxing, data governance, and secure execution across device and cloud. Optimization: Apply techniques like model quantization, pruning, distillation, and caching for efficiency across diverse environments. Technical Evangelism: Contribute to best practices, design patterns, and technical documentation to support broader adoption of hybrid AI agent architectures.'}"
      ]
     },
     "execution_count": 8,
     "metadata": {},
     "output_type": "execute_result"
    }
   ],
   "source": [
    "from langchain_core.output_parsers import JsonOutputParser\n",
    "\n",
    "json_parser = JsonOutputParser() # convert str into Json object\n",
    "json_job = json_parser.parse(job.content) # takes the string output (res.content) and returns a dict\n",
    "json_job"
   ]
  },
  {
   "cell_type": "markdown",
   "id": "134cf55a-c1a1-4099-bd9c-c836acdfe5d5",
   "metadata": {},
   "source": [
    "## Step 4: Scrap text from resume"
   ]
  },
  {
   "cell_type": "code",
   "execution_count": 11,
   "id": "73580fd5-c50a-4a46-bd3d-82160b877f6d",
   "metadata": {
    "scrolled": true
   },
   "outputs": [
    {
     "name": "stdout",
     "output_type": "stream",
     "text": [
      "DENNIS\n",
      "SCHERRER\n",
      "IT Engineer\n",
      "d.scherrer38@email.com\n",
      "(123) 456-7890\n",
      "Houston, TX\n",
      "LinkedIn\n",
      "EDUCATION\n",
      "Bachelor of Science\n",
      "Computer Science\n",
      "Texas A&M University\n",
      "2005 - 2009\n",
      "College Station, TX\n",
      "SKILLS\n",
      "Python\n",
      "Microsoft 365\n",
      "Agile Project Management\n",
      "Network Infrastructure\n",
      "Troubleshooting\n",
      "Windows/Apple OS\n",
      "VPN Maintenance\n",
      "Verbal Communication\n",
      "Customer Service\n",
      "CERTIFICATIONS\n",
      "MCSE\n",
      "CCNA\n",
      "WORK EXPERIENCE\n",
      "IT Engineer\n",
      "Loomis Armored US, LLC\n",
      "2020 - current Houston, TX\n",
      "Hired 11 technicians and instructed them in Agile project\n",
      "management, increasing efﬁciency by 39%\n",
      "Drafted troubleshooting guides for common technical\n",
      "strategies, decreasing average ticket resolution time by 48%\n",
      "Collaborated with 13 techs to upgrade VPN security,\n",
      "including updating encryption methods and adding\n",
      "antivirus protection, reducing chances of a breach by 67%\n",
      "Developed and enhanced product security systems,\n",
      "meeting 100% of client requirements\n",
      "Network Engineer\n",
      "ADP\n",
      "2017 - 2020 Houston, TX\n",
      "Created and reorganized SQL queries and scripts for\n",
      "internal troubleshooting, decreasing work tickets by 28%\n",
      "Analyzed escalated tickets and coached junior techs to\n",
      "resolve 84% of excessive escalations\n",
      "Analyzed diagnostic data to understand causes/correlations\n",
      "of network issues and presented results to internal staff\n",
      "Collaborated with staff to resolve network issues and\n",
      "implement ﬁxes, resulting in 31% fewer malfunctions\n",
      "Systems Support Engineer\n",
      "Two Sigma\n",
      "2012 - 2017 Houston, TX\n",
      "Managed 7 daily work tickets, prioritizing urgent needs and\n",
      "scheduling projects to resolve tickets within 2 hours\n",
      "Trained 8 junior techs to manage tickets, diagnose common\n",
      "problems, and maintain workﬂows\n",
      "Developed solutions for software/hardware compatibility\n",
      "Installed and upgraded internal applications and\n",
      "documentation, reducing installation errors by 12%\n",
      "IT Support Engineer\n",
      "Capital One\n",
      "2009 - 2012 Houston, TX\n",
      "Resolved 12 network/software Level I tickets per shift\n",
      "Provided technical support over the phone, email, and\n",
      "desktop chat, responding to all messages within 4 hours\n",
      "Developed online FAQ articles to address common issues,\n",
      "reducing the average number of tickets by 39%\n",
      "Diagnosed and repaired network malfunctions including\n",
      "ﬁle deletion, failed account entry, slow computer speed, and\n",
      "3rd party software compatibility issues\n"
     ]
    }
   ],
   "source": [
    "from langchain_community.document_loaders import PyPDFLoader, Docx2txtLoader\n",
    "\n",
    "def resume_scraping(pdf_path:str):\n",
    "    if pdf_path.endswith(\".pdf\"):\n",
    "        # if pdf use PyPDFLoader\n",
    "        loader = PyPDFLoader(pdf_path)\n",
    "        resume = loader.load().pop().page_content\n",
    "\n",
    "    # if docs use Docx2txtLoader\n",
    "    elif pdf_path.endswith(\".docx\"):\n",
    "        loader = Docx2txtLoader(pdf_path)\n",
    "        resume = loader.load().pop().page_content\n",
    "            \n",
    "    return resume\n",
    "\n",
    "pdf_path = \"../Data/Resume.pdf\"   # local file\n",
    "resume = resume_scraping(pdf_path)\n",
    "print(resume)"
   ]
  },
  {
   "cell_type": "markdown",
   "id": "59b7687e-037a-4003-aa18-6c25517d31a1",
   "metadata": {},
   "source": [
    "## Step 5: Extract important info from pdf/docs"
   ]
  },
  {
   "cell_type": "code",
   "execution_count": 12,
   "id": "2be46241-d3ad-44e2-873d-7d367a92be7c",
   "metadata": {},
   "outputs": [],
   "source": [
    "from langchain_core.prompts import PromptTemplate\n",
    "\n",
    "prompt_extract_2 = PromptTemplate.from_template(\n",
    "        \"\"\"\n",
    "        ### SCRAPED TEXT FROM RESUME:\n",
    "        {page_data}\n",
    "        ### INSTRUCTION:\n",
    "        The scraped text is from the resume uploaded by user in pdf or docs.\n",
    "        Your job is to extract the resume and return them in JSON format containing the \n",
    "        following keys: `education`, `experience` and `skills`,\n",
    "        Only return the valid JSON.\n",
    "        ### VALID JSON (NO PREAMBLE):    \n",
    "        \"\"\"\n",
    ")\n",
    "\n",
    "resume_chain_extract = prompt_extract_2 | llm \n",
    "resume = resume_chain_extract.invoke(input={'page_data':resume})"
   ]
  },
  {
   "cell_type": "code",
   "execution_count": 13,
   "id": "3e441048-ba72-4ba4-a6d7-ae93ec68b0b3",
   "metadata": {
    "scrolled": true
   },
   "outputs": [
    {
     "data": {
      "text/plain": [
       "{'education': [{'degree': 'Bachelor of Science',\n",
       "   'field': 'Computer Science',\n",
       "   'university': 'Texas A&M University',\n",
       "   'location': 'College Station, TX',\n",
       "   'duration': '2005 - 2009'}],\n",
       " 'experience': [{'jobTitle': 'IT Engineer',\n",
       "   'company': 'Loomis Armored US, LLC',\n",
       "   'location': 'Houston, TX',\n",
       "   'duration': '2020 - current',\n",
       "   'achievements': ['Hired 11 technicians and instructed them in Agile project management, increasing efficiency by 39%',\n",
       "    'Drafted troubleshooting guides for common technical strategies, decreasing average ticket resolution time by 48%',\n",
       "    'Collaborated with 13 techs to upgrade VPN security, including updating encryption methods and adding antivirus protection, reducing chances of a breach by 67%',\n",
       "    'Developed and enhanced product security systems, meeting 100% of client requirements']},\n",
       "  {'jobTitle': 'Network Engineer',\n",
       "   'company': 'ADP',\n",
       "   'location': 'Houston, TX',\n",
       "   'duration': '2017 - 2020',\n",
       "   'achievements': ['Created and reorganized SQL queries and scripts for internal troubleshooting, decreasing work tickets by 28%',\n",
       "    'Analyzed escalated tickets and coached junior techs to resolve 84% of excessive escalations',\n",
       "    'Analyzed diagnostic data to understand causes/correlations of network issues and presented results to internal staff',\n",
       "    'Collaborated with staff to resolve network issues and implement fixes, resulting in 31% fewer malfunctions']},\n",
       "  {'jobTitle': 'Systems Support Engineer',\n",
       "   'company': 'Two Sigma',\n",
       "   'location': 'Houston, TX',\n",
       "   'duration': '2012 - 2017',\n",
       "   'achievements': ['Managed 7 daily work tickets, prioritizing urgent needs and scheduling projects to resolve tickets within 2 hours',\n",
       "    'Trained 8 junior techs to manage tickets, diagnose common problems, and maintain workflows',\n",
       "    'Developed solutions for software/hardware compatibility',\n",
       "    'Installed and upgraded internal applications and documentation, reducing installation errors by 12%']},\n",
       "  {'jobTitle': 'IT Support Engineer',\n",
       "   'company': 'Capital One',\n",
       "   'location': 'Houston, TX',\n",
       "   'duration': '2009 - 2012',\n",
       "   'achievements': ['Resolved 12 network/software Level I tickets per shift',\n",
       "    'Provided technical support over the phone, email, and desktop chat, responding to all messages within 4 hours',\n",
       "    'Developed online FAQ articles to address common issues, reducing the average number of tickets by 39%',\n",
       "    'Diagnosed and repaired network malfunctions including file deletion, failed account entry, slow computer speed, and 3rd party software compatibility issues']}],\n",
       " 'skills': ['Python',\n",
       "  'Microsoft 365',\n",
       "  'Agile Project Management',\n",
       "  'Network Infrastructure',\n",
       "  'Troubleshooting',\n",
       "  'Windows/Apple OS',\n",
       "  'VPN Maintenance',\n",
       "  'Verbal Communication',\n",
       "  'Customer Service']}"
      ]
     },
     "execution_count": 13,
     "metadata": {},
     "output_type": "execute_result"
    }
   ],
   "source": [
    "from langchain_core.output_parsers import JsonOutputParser\n",
    "\n",
    "json_parser = JsonOutputParser() # convert output of an LLM call into Json object\n",
    "json_resume = json_parser.parse(resume.content) # takes the string output (res.content) and returns a dict\n",
    "json_resume"
   ]
  },
  {
   "cell_type": "markdown",
   "id": "0ae34e71-fdf1-4071-84e0-eeffc01be195",
   "metadata": {},
   "source": [
    "## Step 6: Store embedded resume in vectordb"
   ]
  },
  {
   "cell_type": "code",
   "execution_count": 21,
   "id": "6aecd234-3ed9-4844-b52c-d3815c730d53",
   "metadata": {},
   "outputs": [],
   "source": [
    "import uuid\n",
    "import chromadb\n",
    "import json\n",
    "\n",
    "client = chromadb.PersistentClient('vectorstore') \n",
    "collection = client.get_or_create_collection(name=\"resume\")\n",
    "\n",
    "if not collection.count():\n",
    "    # Education\n",
    "    for edu in json_resume.get(\"education\", []): # iterate over the list inside the dictionary\n",
    "        collection.add(\n",
    "            documents=[json.dumps(edu)], # store value in education key \n",
    "            metadatas=[{\"type\": \"education\"}],\n",
    "            ids=[str(uuid.uuid4())]\n",
    "        )\n",
    "        \n",
    "    # Experience\n",
    "    for exp in json_resume.get(\"experience\", []): # [] → an empty list. # [{}] → a list containing one empty dictionary.\n",
    "        collection.add(\n",
    "            documents=[json.dumps(exp)],\n",
    "            metadatas=[{\"type\": \"experience\"}],\n",
    "            ids=[str(uuid.uuid4())]\n",
    "        )\n",
    "\n",
    "    # skills\n",
    "    for skill in json_resume.get(\"skills\", []):\n",
    "        collection.add(\n",
    "            documents=[json.dumps(skill)],\n",
    "            metadatas=[{\"type\": \"skills\"}],\n",
    "            ids=[str(uuid.uuid4())]\n",
    "        )"
   ]
  },
  {
   "cell_type": "markdown",
   "id": "619c3209-afc6-4678-901d-19f88a93e0fe",
   "metadata": {},
   "source": [
    "## Step 7: Make query with job skills"
   ]
  },
  {
   "cell_type": "code",
   "execution_count": 22,
   "id": "c1b161b3-b863-48c9-a8ba-62fa0d5de94e",
   "metadata": {
    "scrolled": true
   },
   "outputs": [
    {
     "data": {
      "text/plain": [
       "[['{\"degree\": \"Bachelor of Science\", \"field\": \"Computer Science\", \"university\": \"Texas A&M University\", \"location\": \"College Station, TX\", \"duration\": \"2005 - 2009\"}'],\n",
       " ['{\"degree\": \"Bachelor of Science\", \"field\": \"Computer Science\", \"university\": \"Texas A&M University\", \"location\": \"College Station, TX\", \"duration\": \"2005 - 2009\"}'],\n",
       " ['{\"degree\": \"Bachelor of Science\", \"field\": \"Computer Science\", \"university\": \"Texas A&M University\", \"location\": \"College Station, TX\", \"duration\": \"2005 - 2009\"}'],\n",
       " ['{\"degree\": \"Bachelor of Science\", \"field\": \"Computer Science\", \"university\": \"Texas A&M University\", \"location\": \"College Station, TX\", \"duration\": \"2005 - 2009\"}'],\n",
       " ['{\"degree\": \"Bachelor of Science\", \"field\": \"Computer Science\", \"university\": \"Texas A&M University\", \"location\": \"College Station, TX\", \"duration\": \"2005 - 2009\"}'],\n",
       " ['{\"degree\": \"Bachelor of Science\", \"field\": \"Computer Science\", \"university\": \"Texas A&M University\", \"location\": \"College Station, TX\", \"duration\": \"2005 - 2009\"}'],\n",
       " ['{\"degree\": \"Bachelor of Science\", \"field\": \"Computer Science\", \"university\": \"Texas A&M University\", \"location\": \"College Station, TX\", \"duration\": \"2005 - 2009\"}'],\n",
       " ['{\"degree\": \"Bachelor of Science\", \"field\": \"Computer Science\", \"university\": \"Texas A&M University\", \"location\": \"College Station, TX\", \"duration\": \"2005 - 2009\"}'],\n",
       " ['{\"degree\": \"Bachelor of Science\", \"field\": \"Computer Science\", \"university\": \"Texas A&M University\", \"location\": \"College Station, TX\", \"duration\": \"2005 - 2009\"}'],\n",
       " ['{\"degree\": \"Bachelor of Science\", \"field\": \"Computer Science\", \"university\": \"Texas A&M University\", \"location\": \"College Station, TX\", \"duration\": \"2005 - 2009\"}'],\n",
       " ['{\"degree\": \"Bachelor of Science\", \"field\": \"Computer Science\", \"university\": \"Texas A&M University\", \"location\": \"College Station, TX\", \"duration\": \"2005 - 2009\"}']]"
      ]
     },
     "execution_count": 22,
     "metadata": {},
     "output_type": "execute_result"
    }
   ],
   "source": [
    "education = collection.query(\n",
    "    query_texts=json_job['skills'],\n",
    "    n_results=1, \n",
    "    where={\"type\": \"education\"}\n",
    ")\n",
    "\n",
    "education = education['documents']\n",
    "education\n",
    "# 1 skill correspond to 1 result"
   ]
  },
  {
   "cell_type": "code",
   "execution_count": 23,
   "id": "33d2b153-c2cf-4fdd-bcd6-671a5bd269a2",
   "metadata": {},
   "outputs": [
    {
     "data": {
      "text/plain": [
       "[['{\"jobTitle\": \"IT Engineer\", \"company\": \"Loomis Armored US, LLC\", \"location\": \"Houston, TX\", \"duration\": \"2020 - current\", \"achievements\": [\"Hired 11 technicians and instructed them in Agile project management, increasing efficiency by 39%\", \"Drafted troubleshooting guides for common technical strategies, decreasing average ticket resolution time by 48%\", \"Collaborated with 13 techs to upgrade VPN security, including updating encryption methods and adding antivirus protection, reducing chances of a breach by 67%\", \"Developed and enhanced product security systems, meeting 100% of client requirements\"]}',\n",
       "  '{\"jobTitle\": \"Network Engineer\", \"company\": \"ADP\", \"location\": \"Houston, TX\", \"duration\": \"2017 - 2020\", \"achievements\": [\"Created and reorganized SQL queries and scripts for internal troubleshooting, decreasing work tickets by 28%\", \"Analyzed escalated tickets and coached junior techs to resolve 84% of excessive escalations\", \"Analyzed diagnostic data to understand causes/correlations of network issues and presented results to internal staff\", \"Collaborated with staff to resolve network issues and implement fixes, resulting in 31% fewer malfunctions\"]}'],\n",
       " ['{\"jobTitle\": \"IT Engineer\", \"company\": \"Loomis Armored US, LLC\", \"location\": \"Houston, TX\", \"duration\": \"2020 - current\", \"achievements\": [\"Hired 11 technicians and instructed them in Agile project management, increasing efficiency by 39%\", \"Drafted troubleshooting guides for common technical strategies, decreasing average ticket resolution time by 48%\", \"Collaborated with 13 techs to upgrade VPN security, including updating encryption methods and adding antivirus protection, reducing chances of a breach by 67%\", \"Developed and enhanced product security systems, meeting 100% of client requirements\"]}',\n",
       "  '{\"jobTitle\": \"Network Engineer\", \"company\": \"ADP\", \"location\": \"Houston, TX\", \"duration\": \"2017 - 2020\", \"achievements\": [\"Created and reorganized SQL queries and scripts for internal troubleshooting, decreasing work tickets by 28%\", \"Analyzed escalated tickets and coached junior techs to resolve 84% of excessive escalations\", \"Analyzed diagnostic data to understand causes/correlations of network issues and presented results to internal staff\", \"Collaborated with staff to resolve network issues and implement fixes, resulting in 31% fewer malfunctions\"]}'],\n",
       " ['{\"jobTitle\": \"IT Engineer\", \"company\": \"Loomis Armored US, LLC\", \"location\": \"Houston, TX\", \"duration\": \"2020 - current\", \"achievements\": [\"Hired 11 technicians and instructed them in Agile project management, increasing efficiency by 39%\", \"Drafted troubleshooting guides for common technical strategies, decreasing average ticket resolution time by 48%\", \"Collaborated with 13 techs to upgrade VPN security, including updating encryption methods and adding antivirus protection, reducing chances of a breach by 67%\", \"Developed and enhanced product security systems, meeting 100% of client requirements\"]}',\n",
       "  '{\"jobTitle\": \"Network Engineer\", \"company\": \"ADP\", \"location\": \"Houston, TX\", \"duration\": \"2017 - 2020\", \"achievements\": [\"Created and reorganized SQL queries and scripts for internal troubleshooting, decreasing work tickets by 28%\", \"Analyzed escalated tickets and coached junior techs to resolve 84% of excessive escalations\", \"Analyzed diagnostic data to understand causes/correlations of network issues and presented results to internal staff\", \"Collaborated with staff to resolve network issues and implement fixes, resulting in 31% fewer malfunctions\"]}'],\n",
       " ['{\"jobTitle\": \"Network Engineer\", \"company\": \"ADP\", \"location\": \"Houston, TX\", \"duration\": \"2017 - 2020\", \"achievements\": [\"Created and reorganized SQL queries and scripts for internal troubleshooting, decreasing work tickets by 28%\", \"Analyzed escalated tickets and coached junior techs to resolve 84% of excessive escalations\", \"Analyzed diagnostic data to understand causes/correlations of network issues and presented results to internal staff\", \"Collaborated with staff to resolve network issues and implement fixes, resulting in 31% fewer malfunctions\"]}',\n",
       "  '{\"jobTitle\": \"IT Engineer\", \"company\": \"Loomis Armored US, LLC\", \"location\": \"Houston, TX\", \"duration\": \"2020 - current\", \"achievements\": [\"Hired 11 technicians and instructed them in Agile project management, increasing efficiency by 39%\", \"Drafted troubleshooting guides for common technical strategies, decreasing average ticket resolution time by 48%\", \"Collaborated with 13 techs to upgrade VPN security, including updating encryption methods and adding antivirus protection, reducing chances of a breach by 67%\", \"Developed and enhanced product security systems, meeting 100% of client requirements\"]}'],\n",
       " ['{\"jobTitle\": \"IT Engineer\", \"company\": \"Loomis Armored US, LLC\", \"location\": \"Houston, TX\", \"duration\": \"2020 - current\", \"achievements\": [\"Hired 11 technicians and instructed them in Agile project management, increasing efficiency by 39%\", \"Drafted troubleshooting guides for common technical strategies, decreasing average ticket resolution time by 48%\", \"Collaborated with 13 techs to upgrade VPN security, including updating encryption methods and adding antivirus protection, reducing chances of a breach by 67%\", \"Developed and enhanced product security systems, meeting 100% of client requirements\"]}',\n",
       "  '{\"jobTitle\": \"Network Engineer\", \"company\": \"ADP\", \"location\": \"Houston, TX\", \"duration\": \"2017 - 2020\", \"achievements\": [\"Created and reorganized SQL queries and scripts for internal troubleshooting, decreasing work tickets by 28%\", \"Analyzed escalated tickets and coached junior techs to resolve 84% of excessive escalations\", \"Analyzed diagnostic data to understand causes/correlations of network issues and presented results to internal staff\", \"Collaborated with staff to resolve network issues and implement fixes, resulting in 31% fewer malfunctions\"]}'],\n",
       " ['{\"jobTitle\": \"Systems Support Engineer\", \"company\": \"Two Sigma\", \"location\": \"Houston, TX\", \"duration\": \"2012 - 2017\", \"achievements\": [\"Managed 7 daily work tickets, prioritizing urgent needs and scheduling projects to resolve tickets within 2 hours\", \"Trained 8 junior techs to manage tickets, diagnose common problems, and maintain workflows\", \"Developed solutions for software/hardware compatibility\", \"Installed and upgraded internal applications and documentation, reducing installation errors by 12%\"]}',\n",
       "  '{\"jobTitle\": \"IT Engineer\", \"company\": \"Loomis Armored US, LLC\", \"location\": \"Houston, TX\", \"duration\": \"2020 - current\", \"achievements\": [\"Hired 11 technicians and instructed them in Agile project management, increasing efficiency by 39%\", \"Drafted troubleshooting guides for common technical strategies, decreasing average ticket resolution time by 48%\", \"Collaborated with 13 techs to upgrade VPN security, including updating encryption methods and adding antivirus protection, reducing chances of a breach by 67%\", \"Developed and enhanced product security systems, meeting 100% of client requirements\"]}'],\n",
       " ['{\"jobTitle\": \"IT Engineer\", \"company\": \"Loomis Armored US, LLC\", \"location\": \"Houston, TX\", \"duration\": \"2020 - current\", \"achievements\": [\"Hired 11 technicians and instructed them in Agile project management, increasing efficiency by 39%\", \"Drafted troubleshooting guides for common technical strategies, decreasing average ticket resolution time by 48%\", \"Collaborated with 13 techs to upgrade VPN security, including updating encryption methods and adding antivirus protection, reducing chances of a breach by 67%\", \"Developed and enhanced product security systems, meeting 100% of client requirements\"]}',\n",
       "  '{\"jobTitle\": \"IT Support Engineer\", \"company\": \"Capital One\", \"location\": \"Houston, TX\", \"duration\": \"2009 - 2012\", \"achievements\": [\"Resolved 12 network/software Level I tickets per shift\", \"Provided technical support over the phone, email, and desktop chat, responding to all messages within 4 hours\", \"Developed online FAQ articles to address common issues, reducing the average number of tickets by 39%\", \"Diagnosed and repaired network malfunctions including file deletion, failed account entry, slow computer speed, and 3rd party software compatibility issues\"]}'],\n",
       " ['{\"jobTitle\": \"IT Engineer\", \"company\": \"Loomis Armored US, LLC\", \"location\": \"Houston, TX\", \"duration\": \"2020 - current\", \"achievements\": [\"Hired 11 technicians and instructed them in Agile project management, increasing efficiency by 39%\", \"Drafted troubleshooting guides for common technical strategies, decreasing average ticket resolution time by 48%\", \"Collaborated with 13 techs to upgrade VPN security, including updating encryption methods and adding antivirus protection, reducing chances of a breach by 67%\", \"Developed and enhanced product security systems, meeting 100% of client requirements\"]}',\n",
       "  '{\"jobTitle\": \"IT Support Engineer\", \"company\": \"Capital One\", \"location\": \"Houston, TX\", \"duration\": \"2009 - 2012\", \"achievements\": [\"Resolved 12 network/software Level I tickets per shift\", \"Provided technical support over the phone, email, and desktop chat, responding to all messages within 4 hours\", \"Developed online FAQ articles to address common issues, reducing the average number of tickets by 39%\", \"Diagnosed and repaired network malfunctions including file deletion, failed account entry, slow computer speed, and 3rd party software compatibility issues\"]}'],\n",
       " ['{\"jobTitle\": \"IT Engineer\", \"company\": \"Loomis Armored US, LLC\", \"location\": \"Houston, TX\", \"duration\": \"2020 - current\", \"achievements\": [\"Hired 11 technicians and instructed them in Agile project management, increasing efficiency by 39%\", \"Drafted troubleshooting guides for common technical strategies, decreasing average ticket resolution time by 48%\", \"Collaborated with 13 techs to upgrade VPN security, including updating encryption methods and adding antivirus protection, reducing chances of a breach by 67%\", \"Developed and enhanced product security systems, meeting 100% of client requirements\"]}',\n",
       "  '{\"jobTitle\": \"IT Support Engineer\", \"company\": \"Capital One\", \"location\": \"Houston, TX\", \"duration\": \"2009 - 2012\", \"achievements\": [\"Resolved 12 network/software Level I tickets per shift\", \"Provided technical support over the phone, email, and desktop chat, responding to all messages within 4 hours\", \"Developed online FAQ articles to address common issues, reducing the average number of tickets by 39%\", \"Diagnosed and repaired network malfunctions including file deletion, failed account entry, slow computer speed, and 3rd party software compatibility issues\"]}'],\n",
       " ['{\"jobTitle\": \"IT Engineer\", \"company\": \"Loomis Armored US, LLC\", \"location\": \"Houston, TX\", \"duration\": \"2020 - current\", \"achievements\": [\"Hired 11 technicians and instructed them in Agile project management, increasing efficiency by 39%\", \"Drafted troubleshooting guides for common technical strategies, decreasing average ticket resolution time by 48%\", \"Collaborated with 13 techs to upgrade VPN security, including updating encryption methods and adding antivirus protection, reducing chances of a breach by 67%\", \"Developed and enhanced product security systems, meeting 100% of client requirements\"]}',\n",
       "  '{\"jobTitle\": \"IT Support Engineer\", \"company\": \"Capital One\", \"location\": \"Houston, TX\", \"duration\": \"2009 - 2012\", \"achievements\": [\"Resolved 12 network/software Level I tickets per shift\", \"Provided technical support over the phone, email, and desktop chat, responding to all messages within 4 hours\", \"Developed online FAQ articles to address common issues, reducing the average number of tickets by 39%\", \"Diagnosed and repaired network malfunctions including file deletion, failed account entry, slow computer speed, and 3rd party software compatibility issues\"]}'],\n",
       " ['{\"jobTitle\": \"IT Engineer\", \"company\": \"Loomis Armored US, LLC\", \"location\": \"Houston, TX\", \"duration\": \"2020 - current\", \"achievements\": [\"Hired 11 technicians and instructed them in Agile project management, increasing efficiency by 39%\", \"Drafted troubleshooting guides for common technical strategies, decreasing average ticket resolution time by 48%\", \"Collaborated with 13 techs to upgrade VPN security, including updating encryption methods and adding antivirus protection, reducing chances of a breach by 67%\", \"Developed and enhanced product security systems, meeting 100% of client requirements\"]}',\n",
       "  '{\"jobTitle\": \"Network Engineer\", \"company\": \"ADP\", \"location\": \"Houston, TX\", \"duration\": \"2017 - 2020\", \"achievements\": [\"Created and reorganized SQL queries and scripts for internal troubleshooting, decreasing work tickets by 28%\", \"Analyzed escalated tickets and coached junior techs to resolve 84% of excessive escalations\", \"Analyzed diagnostic data to understand causes/correlations of network issues and presented results to internal staff\", \"Collaborated with staff to resolve network issues and implement fixes, resulting in 31% fewer malfunctions\"]}']]"
      ]
     },
     "execution_count": 23,
     "metadata": {},
     "output_type": "execute_result"
    }
   ],
   "source": [
    "experience = collection.query(\n",
    "    query_texts=json_job['skills'],\n",
    "    n_results=2, \n",
    "    where={\"type\": \"experience\"}\n",
    ")\n",
    "\n",
    "experience = experience['documents']\n",
    "experience"
   ]
  },
  {
   "cell_type": "code",
   "execution_count": 24,
   "id": "cb8d247f-55a9-4b1a-aff6-bb87e2e67958",
   "metadata": {},
   "outputs": [
    {
     "data": {
      "text/plain": [
       "[['\"Network Infrastructure\"', '\"VPN Maintenance\"', '\"Python\"'],\n",
       " ['\"Python\"', '\"Microsoft 365\"', '\"Troubleshooting\"'],\n",
       " ['\"Python\"', '\"Network Infrastructure\"', '\"Agile Project Management\"'],\n",
       " ['\"Customer Service\"', '\"Troubleshooting\"', '\"Agile Project Management\"'],\n",
       " ['\"Microsoft 365\"', '\"Python\"', '\"Network Infrastructure\"'],\n",
       " ['\"Python\"', '\"Customer Service\"', '\"Network Infrastructure\"'],\n",
       " ['\"Network Infrastructure\"', '\"Microsoft 365\"', '\"Windows/Apple OS\"'],\n",
       " ['\"Agile Project Management\"',\n",
       "  '\"Network Infrastructure\"',\n",
       "  '\"Troubleshooting\"'],\n",
       " ['\"Customer Service\"', '\"Agile Project Management\"', '\"VPN Maintenance\"'],\n",
       " ['\"Python\"', '\"Microsoft 365\"', '\"Agile Project Management\"'],\n",
       " ['\"Troubleshooting\"', '\"Python\"', '\"Verbal Communication\"']]"
      ]
     },
     "execution_count": 24,
     "metadata": {},
     "output_type": "execute_result"
    }
   ],
   "source": [
    "skills = collection.query(\n",
    "    query_texts=json_job['skills'],\n",
    "    n_results=3, \n",
    "    where={\"type\": \"skills\"}\n",
    ")\n",
    "\n",
    "skills = skills['documents']\n",
    "skills"
   ]
  },
  {
   "cell_type": "markdown",
   "id": "54581d7a-c011-4edd-b198-726f2c500816",
   "metadata": {},
   "source": [
    "## Step 8: Generate email"
   ]
  },
  {
   "cell_type": "code",
   "execution_count": 25,
   "id": "392ddb4e-964e-4731-8f58-509bc8e79e94",
   "metadata": {},
   "outputs": [
    {
     "name": "stdout",
     "output_type": "stream",
     "text": [
      "Subject: Application for GenAI Software Solutions Engineer at [Company Name]\n",
      "\n",
      "Dear Hiring Manager,\n",
      "\n",
      "I am [Your Name], a highly motivated and experienced IT professional with a strong background in AI/ML algorithm development, NLP, and LLM-based systems. With over 2 years of hands-on experience in AI/ML and 1 year of experience in NLP, I am confident in my ability to fulfill the requirements of the GenAI Software Solutions Engineer role at [Company Name].\n",
      "\n",
      "As a seasoned IT Engineer with experience at Loomis Armored US, LLC, and ADP, I possess deep expertise in Python, Network Infrastructure, and Agile Project Management. My achievements include increasing efficiency by 39% through Agile project management, decreasing average ticket resolution time by 48%, and collaborating with teams to upgrade VPN security, reducing breach chances by 67%.\n",
      "\n",
      "I am excited about the opportunity to leverage my skills and experience to contribute to the development of secure, scalable, and efficient AI solutions at [Company Name]. I am confident that my strong problem-solving skills, results-driven mindset, and customer-focused approach make me an ideal fit for this role.\n",
      "\n",
      "I would welcome the opportunity to discuss my application and how my skills and experience align with the requirements of the GenAI Software Solutions Engineer position. Please feel free to contact me at your convenience.\n",
      "\n",
      "Thank you for considering my application.\n",
      "\n",
      "Best regards,\n",
      "[Your Name]\n"
     ]
    }
   ],
   "source": [
    "prompt_email = PromptTemplate.from_template(\n",
    "        \"\"\"\n",
    "        ### JOB DESCRIPTION:\n",
    "        {job_description}\n",
    "        \n",
    "        ### INSTRUCTION:\n",
    "        You the person written in the resume, who is finding job and excellent at writing email.\n",
    "        Your job is to write a personalized cold email to the company to apply for the job mentioned above describing your capability \n",
    "        in fulfilling their needs.\n",
    "        Make the email **professional**, **confident**, and **concise**.\n",
    "        Mention about company name for more personalization.\n",
    "        If you dont know what the company name is, leave as [Company Name].\n",
    "        Also add the most relevant ones from the following education, experience and skills to showcase youself: {education}, {experience} and {skills}\n",
    "        Remember you are the person written in the resume, write as your are the person. \n",
    "        If you dont know what your name, leave as [Your Name].\n",
    "        Do not create or write anything outside of resume.\n",
    "        A recruiter may skim emails so keep the email short but concise.\n",
    "        Do not provide a preamble.\n",
    "        ### EMAIL (NO PREAMBLE):\n",
    "        \n",
    "        \"\"\"\n",
    "        )\n",
    "\n",
    "chain_email = prompt_email | llm\n",
    "res = chain_email.invoke({\"job_description\": str(json_job), \"education\": education, \"experience\": experience, \"skills\": skills})\n",
    "print(res.content)"
   ]
  }
 ],
 "metadata": {
  "kernelspec": {
   "display_name": "Python 3 (ipykernel)",
   "language": "python",
   "name": "python3"
  },
  "language_info": {
   "codemirror_mode": {
    "name": "ipython",
    "version": 3
   },
   "file_extension": ".py",
   "mimetype": "text/x-python",
   "name": "python",
   "nbconvert_exporter": "python",
   "pygments_lexer": "ipython3",
   "version": "3.11.9"
  }
 },
 "nbformat": 4,
 "nbformat_minor": 5
}
